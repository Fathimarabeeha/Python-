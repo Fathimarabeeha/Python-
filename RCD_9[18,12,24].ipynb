{
 "cells": [
  {
   "cell_type": "code",
   "execution_count": 2,
   "id": "a4a2361c",
   "metadata": {},
   "outputs": [
    {
     "name": "stdout",
     "output_type": "stream",
     "text": [
      "enter filename: a.txt\n",
      "The file stored as list:  ['abcdef', '12354']\n"
     ]
    }
   ],
   "source": [
    "#NUMBER OF LINES IN A FILE\n",
    "r=input(\"enter filename: \")\n",
    "r=open(r,\"r\")\n",
    "lines = r.readlines()\n",
    "lines = [line.strip() for line in lines]\n",
    "print(\"The file stored as list: \",lines)\n",
    "r.close()"
   ]
  },
  {
   "cell_type": "code",
   "execution_count": 3,
   "id": "ec38d210",
   "metadata": {},
   "outputs": [
    {
     "name": "stdout",
     "output_type": "stream",
     "text": [
      "enter filename1: y.txt\n",
      "enter filename2: a.txt\n",
      "copied odd lines of file1 to file2\n"
     ]
    }
   ],
   "source": [
    "#OOD LINES\n",
    "f1=open(input(\"enter filename1: \"),\"r\")\n",
    "f2=open(input(\"enter filename2: \"),\"w\")\n",
    "ln=1\n",
    "f=f1.readlines\n",
    "line_num = 1\n",
    "for line in f1:\n",
    "    if line_num % 2 != 0:\n",
    "        f2.write(line)\n",
    "    line_num += 1\n",
    "print(\"copied odd lines of file1 to file2\")\n",
    "f1.close()\n",
    "f2.close()"
   ]
  },
  {
   "cell_type": "code",
   "execution_count": 16,
   "id": "4a18f0c0",
   "metadata": {},
   "outputs": [
    {
     "name": "stdout",
     "output_type": "stream",
     "text": [
      "each row of sdf.csv file\n",
      "\n",
      "['Deptid', 'deptname', 'TE', 'Location']\n",
      "['3', 'Marcy', '6', 'calicut']\n",
      "['8', 'kahf', '7', 'kannur']\n",
      "['3', 'Ami', '2', 'calicut']\n",
      "['2', 'fathu', '6', 'kannur']\n"
     ]
    }
   ],
   "source": [
    "import csv\n",
    "file=open('sdf.csv', 'r') \n",
    "row=csv.reader(file)\n",
    "\n",
    "print(\"each row of sdf.csv file\\n\")\n",
    "for r in row:\n",
    "    print(r)"
   ]
  },
  {
   "cell_type": "code",
   "execution_count": 14,
   "id": "50fe4745",
   "metadata": {},
   "outputs": [
    {
     "name": "stdout",
     "output_type": "stream",
     "text": [
      "1st and 2nd columns of sdf.csv file\n",
      "\n",
      "|Deptid     | deptname  |\n",
      "|3          | Marcy     |\n",
      "|8          | kahf      |\n",
      "|3          | Ami       |\n",
      "|2          | fathu     |\n"
     ]
    }
   ],
   "source": [
    "#CSV FILE AND LIST OF SRING\n",
    "import csv\n",
    "\n",
    "file = open('sdf.csv', 'r')\n",
    "rows = csv.reader(file)\n",
    "print(\"1st and 2nd columns of sdf.csv file\\n\")\n",
    "for row in rows:\n",
    "    print(f\"|{row[0]:<10} | {row[1]:<10}|\") "
   ]
  },
  {
   "cell_type": "code",
   "execution_count": 17,
   "id": "f302b308",
   "metadata": {},
   "outputs": [
    {
     "name": "stdout",
     "output_type": "stream",
     "text": [
      "Enter names: kaju ruju ami \n",
      "Enter cities: calicut kannur wayanad\n",
      "\n",
      "The content of the file: \n",
      "['Name', 'City']\n",
      "['kaju', 'calicut']\n",
      "['ruju', 'kannur']\n",
      "['ami', 'wayanad']\n"
     ]
    }
   ],
   "source": [
    "import csv\n",
    "\n",
    "data = dict(zip(input(\"Enter names: \").split(), input(\"Enter cities: \").split()))\n",
    "\n",
    "with open('output.csv', 'w', newline='') as f:\n",
    "    w = csv.writer(f)\n",
    "    w.writerow([\"Name\", \"City\"])\n",
    "    w.writerows(data.items())\n",
    "\n",
    "with open('output.csv', 'r') as f:\n",
    "    print(\"\\nThe content of the file: \",*csv.reader(f), sep='\\n')"
   ]
  },
  {
   "cell_type": "code",
   "execution_count": null,
   "id": "5482d0f2",
   "metadata": {},
   "outputs": [],
   "source": []
  }
 ],
 "metadata": {
  "kernelspec": {
   "display_name": "Python 3 (ipykernel)",
   "language": "python",
   "name": "python3"
  },
  "language_info": {
   "codemirror_mode": {
    "name": "ipython",
    "version": 3
   },
   "file_extension": ".py",
   "mimetype": "text/x-python",
   "name": "python",
   "nbconvert_exporter": "python",
   "pygments_lexer": "ipython3",
   "version": "3.11.5"
  }
 },
 "nbformat": 4,
 "nbformat_minor": 5
}
