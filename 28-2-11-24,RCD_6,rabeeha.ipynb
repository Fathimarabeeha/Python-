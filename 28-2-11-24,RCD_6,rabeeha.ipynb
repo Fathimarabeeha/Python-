{
 "cells": [
  {
   "cell_type": "code",
   "execution_count": 8,
   "id": "85662c49",
   "metadata": {},
   "outputs": [
    {
     "name": "stdout",
     "output_type": "stream",
     "text": [
      "Enter the current year :2024\n",
      "Enter the final year :2050\n",
      "Leap years from current year to final year are:\n",
      "2024\n",
      "2028\n",
      "2032\n",
      "2036\n",
      "2040\n",
      "2044\n",
      "2048\n"
     ]
    }
   ],
   "source": [
    "#LEAP YEARS FROM CURRENT YEARS TO A FINAL YEAR\n",
    "def is_leap_year(year):\n",
    "    return (year % 4 == 0 and year % 100 != 0) or (year % 400 == 0)\n",
    "print_pattern(N)\n",
    "current_year=int(input(\"Enter the current year :\"))\n",
    "final_year=int(input(\"Enter the final year :\"))\n",
    "print(\"Leap years from current year to final year are:\")\n",
    "for year in range(current_year, final_year + 1):\n",
    "    if is_leap_year(year):\n",
    "        print(year)\n"
   ]
  },
  {
   "cell_type": "code",
   "execution_count": 21,
   "id": "2cabda4e",
   "metadata": {},
   "outputs": [
    {
     "name": "stdout",
     "output_type": "stream",
     "text": [
      "Enter a number :5\n",
      "The factorial of 5 is 120\n"
     ]
    }
   ],
   "source": [
    "#FIND THE FACTORIAL OF A NUMBER\n",
    "def factorial(n):\n",
    "    if n==0 or n==1:\n",
    "        return 1\n",
    "    else:\n",
    "        return n * factorial(n-1)\n",
    "    \n",
    "num=int(input(\"Enter a number :\"))\n",
    "print(f\"The factorial of {num} is {factorial(num)}\")"
   ]
  },
  {
   "cell_type": "code",
   "execution_count": 1,
   "id": "ad507ac8",
   "metadata": {},
   "outputs": [
    {
     "name": "stdout",
     "output_type": "stream",
     "text": [
      "Enter the number of terms for the Fibonacci series: 4\n",
      "Fibonacci series:\n",
      "0\n",
      "1\n",
      "1\n",
      "2\n"
     ]
    }
   ],
   "source": [
    "#FIBNOCCI SERIES OF N TERMS\n",
    "def fibonacci(n):\n",
    "    a, b = 0, 1  \n",
    "    for i in range(n):\n",
    "        print(a)  \n",
    "        a, b = b, a + b  \n",
    "\n",
    "num = int(input(\"Enter the number of terms for the Fibonacci series: \"))\n",
    "print(\"Fibonacci series:\")\n",
    "fibonacci(num)"
   ]
  },
  {
   "cell_type": "code",
   "execution_count": 7,
   "id": "aaac3afd",
   "metadata": {},
   "outputs": [
    {
     "name": "stdout",
     "output_type": "stream",
     "text": [
      "Enter the list of words :apple banana grapefruit kiwi\n",
      "Length of longest word : 10\n"
     ]
    }
   ],
   "source": [
    "#RETURN LENGTH OF LONGEST WORD\n",
    "def longest_word_length(words):\n",
    "    return max(len(word) for word in words)\n",
    "    \n",
    "word=(input(\"Enter the list of words :\").split())\n",
    "print(\"Length of longest word :\", longest_word_length(word))"
   ]
  },
  {
   "cell_type": "code",
   "execution_count": 16,
   "id": "50fd3fcf",
   "metadata": {},
   "outputs": [
    {
     "name": "stdout",
     "output_type": "stream",
     "text": [
      "* \n",
      "* * \n",
      "* * * \n",
      "* * * * \n",
      "* * * * * \n",
      "* * * * \n",
      "* * * \n",
      "* * \n",
      "* \n"
     ]
    }
   ],
   "source": [
    "#PATTERN USING NESTED LOOP\n",
    "def print_pyramid():\n",
    "    for i in range(1, 6):\n",
    "        print(\"* \" * i)\n",
    "    for i in range(4, 0, -1):\n",
    "        print(\"* \" * i)\n",
    "print_pyramid()"
   ]
  },
  {
   "cell_type": "code",
   "execution_count": 9,
   "id": "2d5b9258",
   "metadata": {},
   "outputs": [
    {
     "name": "stdout",
     "output_type": "stream",
     "text": [
      "Enter a number: 10\n",
      "Factors of 10 : [1, 2, 5, 10]\n"
     ]
    }
   ],
   "source": [
    "#ALL FACTORS OF A NUMBER\n",
    "def factors(n):\n",
    "    factor_list = []\n",
    "    for i in range(1, n + 1):\n",
    "        if n % i == 0:\n",
    "            factor_list.append(i)\n",
    "    return factor_list\n",
    "\n",
    "num = int(input(\"Enter a number: \"))\n",
    "print(\"Factors of\", num, \":\", factors(num))\n"
   ]
  },
  {
   "cell_type": "code",
   "execution_count": 19,
   "id": "ec249ab3",
   "metadata": {},
   "outputs": [
    {
     "name": "stdout",
     "output_type": "stream",
     "text": [
      "Enter the number of steps (N): 4\n",
      "1   \n",
      "2   4   \n",
      "3   6   9   \n",
      "4   8   12   16   \n"
     ]
    }
   ],
   "source": [
    "#PYRAMID WITH STEP NUMBER\n",
    "def  print_pattern(N):\n",
    "    for i in range(1, N + 1):\n",
    "        for j in range(1, i + 1):\n",
    "            print(i * j, end=\"   \")\n",
    "        print()\n",
    "N = int(input(\"Enter the number of steps (N): \"))\n",
    "print_pattern(N)"
   ]
  },
  {
   "cell_type": "code",
   "execution_count": 17,
   "id": "e22928af",
   "metadata": {},
   "outputs": [
    {
     "name": "stdout",
     "output_type": "stream",
     "text": [
      "Area of square: 16\n",
      "Area of rectangle: 15\n",
      "Area of triangle: 12.0\n"
     ]
    }
   ],
   "source": [
    "#LAMBDA FUNCTIONS(FIND AREA OF SQUARE RECTANGLE AND TRIANGLE)\n",
    "def calculate_areas():\n",
    "    area_of_square = lambda side: side ** 2\n",
    "    area_of_rectangle = lambda length, width: length * width\n",
    "    area_of_triangle = lambda base, height: 0.5 * base * height\n",
    "    print(\"Area of square:\",area_of_square(4))       \n",
    "    print(\"Area of rectangle:\",area_of_rectangle(5, 3))  \n",
    "    print(\"Area of triangle:\",area_of_triangle(6, 4))   \n",
    "calculate_areas()"
   ]
  },
  {
   "cell_type": "code",
   "execution_count": null,
   "id": "8b3763bc",
   "metadata": {},
   "outputs": [],
   "source": []
  }
 ],
 "metadata": {
  "kernelspec": {
   "display_name": "Python 3 (ipykernel)",
   "language": "python",
   "name": "python3"
  },
  "language_info": {
   "codemirror_mode": {
    "name": "ipython",
    "version": 3
   },
   "file_extension": ".py",
   "mimetype": "text/x-python",
   "name": "python",
   "nbconvert_exporter": "python",
   "pygments_lexer": "ipython3",
   "version": "3.11.5"
  }
 },
 "nbformat": 4,
 "nbformat_minor": 5
}
