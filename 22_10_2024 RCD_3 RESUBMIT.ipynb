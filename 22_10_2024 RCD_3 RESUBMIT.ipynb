{
 "cells": [
  {
   "cell_type": "code",
   "execution_count": 6,
   "id": "5fc3dcd9",
   "metadata": {},
   "outputs": [
    {
     "name": "stdout",
     "output_type": "stream",
     "text": [
      "Enter the word :Fthima\n",
      "swaped : athimF\n"
     ]
    }
   ],
   "source": [
    "#EXCHANGE FIRST ABD LAST CHAR\n",
    "str=(input(\"Enter the word :\"))\n",
    "s=str[0]          \n",
    "e=str[-1]\n",
    "swap_str=e+str[1:-1]+s\n",
    "print(\"swaped :\",swap_str)"
   ]
  },
  {
   "cell_type": "code",
   "execution_count": 5,
   "id": "20d7e9ae",
   "metadata": {},
   "outputs": [
    {
     "name": "stdout",
     "output_type": "stream",
     "text": [
      "Before swap : abc  xyz\n",
      "After swap : xyc  abz\n"
     ]
    }
   ],
   "source": [
    "#TWO STRING\n",
    "a = 'abc'\n",
    "b = 'xyz'\n",
    "print(\"Before swap :\",a,\"\",b)\n",
    "a1 = b[:2] + a[2:]\n",
    "b1 = a[:2] + b[2:]\n",
    "print(\"After swap :\",a1,\"\",b1)"
   ]
  },
  {
   "cell_type": "code",
   "execution_count": 7,
   "id": "6ab9160a",
   "metadata": {},
   "outputs": [
    {
     "name": "stdout",
     "output_type": "stream",
     "text": [
      "Enter a word :avocado\n",
      "output : avoc$do\n"
     ]
    }
   ],
   "source": [
    "#CHANGED TO $\n",
    "string=(input(\"Enter a word :\"))\n",
    "print(\"output :\",string[0]+string[1:].replace(string[0],'$'))"
   ]
  },
  {
   "cell_type": "code",
   "execution_count": 40,
   "id": "2de8d6d4",
   "metadata": {},
   "outputs": [
    {
     "name": "stdout",
     "output_type": "stream",
     "text": [
      "Enter the colours:white,green,rose,pink\n",
      "The first color is : white\n",
      "The second color is : pink\n"
     ]
    }
   ],
   "source": [
    "#COLORS\n",
    "x=(input(\"Enter the colors:\").split(\",\"))\n",
    "print(\"The first color is :\",x[0])\n",
    "print(\"The second color is :\",x[-1])"
   ]
  },
  {
   "cell_type": "code",
   "execution_count": 13,
   "id": "5d9fa1a1",
   "metadata": {},
   "outputs": [
    {
     "name": "stdout",
     "output_type": "stream",
     "text": [
      "Input the filename: ABC.org\n",
      "The extension of the file is : org\n"
     ]
    }
   ],
   "source": [
    "#EXTENTION\n",
    "a=input(\"Input the filename: \")\n",
    "b=a.split(\".\")\n",
    "print(\"The extension of the file is :\",b[-1])"
   ]
  },
  {
   "cell_type": "code",
   "execution_count": 43,
   "id": "f6ab96de",
   "metadata": {},
   "outputs": [
    {
     "name": "stdout",
     "output_type": "stream",
     "text": [
      "Enter the elements:g,h,j,k,l,b,n,m,c\n",
      "The tuple is : ['g', 'h', 'j', 'k', 'l', 'b', 'n', 'm', 'c']\n",
      "3rd elements of the tuple is: j\n",
      "3rd elements of the last tuple : n\n"
     ]
    }
   ],
   "source": [
    "#THIRD ELEMENT\n",
    "a=(input(\"Enter the elements:\").split(\",\"))\n",
    "print(\"The tuple is :\",a)\n",
    "i=a[2]\n",
    "print(\"3rd elements of the tuple is:\",i)\n",
    "j=a[-3]\n",
    "print(\"3rd elements of the last tuple :\",j)"
   ]
  },
  {
   "cell_type": "code",
   "execution_count": 46,
   "id": "d7f64129",
   "metadata": {},
   "outputs": [
    {
     "name": "stdout",
     "output_type": "stream",
     "text": [
      "Enter the colors in set a(comma seperated):white,green,rose,pink\n",
      "Enter the colors in set b(comma seperated):white,green,yellow,blue\n",
      "Difference of {'rose', 'pink', 'green', 'white'} and {'blue', 'green', 'yellow', 'white'}:{'rose', 'pink'}\n"
     ]
    }
   ],
   "source": [
    "#COLOR SET\n",
    "a=set(input(\"Enter the colors in set a(comma seperated):\").split(\",\"))\n",
    "b=set(input(\"Enter the colors in set b(comma seperated):\").split(\",\"))\n",
    "difference_a_b=a-b\n",
    "print(f\"Difference of {a} and {b}:{difference_a_b}\")"
   ]
  },
  {
   "cell_type": "code",
   "execution_count": 3,
   "id": "6713c5b7",
   "metadata": {},
   "outputs": [
    {
     "name": "stdout",
     "output_type": "stream",
     "text": [
      "Enter 5 student names seperated by spaces: Ayish Fthima Kdheeja Amina Rabi\n",
      "Students_sorted in ascending order: {'Amina': 4, 'Ayish': 1, 'Fthima': 2, 'Kdheeja': 3, 'Rabi': 5}\n",
      "Students_sorted in descending order: {'Rabi': 5, 'Kdheeja': 3, 'Fthima': 2, 'Ayish': 1, 'Amina': 4}\n"
     ]
    }
   ],
   "source": [
    "#INPUT FROM THE USER\n",
    "student_names =(input(\"Enter 5 student names seperated by spaces: \").split())\n",
    "students = dict(zip(student_names, range(1, 6)))\n",
    "sorted_students_asc = dict(sorted(students.items()))\n",
    "sorted_students_desc = dict(sorted(students.items(), reverse=True))\n",
    "print(\"Students_sorted in ascending order:\", sorted_students_asc)\n",
    "print(\"Students_sorted in descending order:\", sorted_students_desc)"
   ]
  },
  {
   "cell_type": "code",
   "execution_count": 12,
   "id": "a4d3dbd2",
   "metadata": {},
   "outputs": [
    {
     "name": "stdout",
     "output_type": "stream",
     "text": [
      "Enter 3 students name :Fathima , Amina , kadheeja\n",
      "Enter 2 students name :Ayisha , Richu\n",
      "Merged Dictionary: {1: 'Fathima', 2: 'Ayisha', 3: 'Amina', 4: 'Nihala', 5: 'Jovina'}\n"
     ]
    }
   ],
   "source": [
    "#MERGE TWO DICTIONARIES\n",
    "dic1=(input(\"Enter 3 students name :\"))\n",
    "dic2=(input(\"Enter 2 students name :\"))\n",
    "dic1 = {1:\"Fathima\", 2:\"Ayisha\", 3:\"Amina\"}\n",
    "dic2 = {4:\"Nihala\", 5:\"Jovina\"}\n",
    "dic1.update(dic2)\n",
    "print(\"Merged Dictionary:\",dic1)"
   ]
  },
  {
   "cell_type": "code",
   "execution_count": 15,
   "id": "c2504ab9",
   "metadata": {},
   "outputs": [
    {
     "name": "stdout",
     "output_type": "stream",
     "text": [
      "Even numbers from 1 to 25: [2, 4, 6, 8, 10, 12, 14, 16, 18, 20, 22, 24]\n",
      "Sum of even numbers: 156\n"
     ]
    }
   ],
   "source": [
    "#PRINT EVEN NO.S AND CALCUATE SUM\n",
    "e_num = list(range(2,26,2))\n",
    "print(\"Even numbers from 1 to 25:\", e_num)\n",
    "total_sum = sum(e_num)\n",
    "print(\"Sum of even numbers:\", total_sum)"
   ]
  },
  {
   "cell_type": "code",
   "execution_count": null,
   "id": "fe916d65",
   "metadata": {},
   "outputs": [],
   "source": []
  }
 ],
 "metadata": {
  "kernelspec": {
   "display_name": "Python 3 (ipykernel)",
   "language": "python",
   "name": "python3"
  },
  "language_info": {
   "codemirror_mode": {
    "name": "ipython",
    "version": 3
   },
   "file_extension": ".py",
   "mimetype": "text/x-python",
   "name": "python",
   "nbconvert_exporter": "python",
   "pygments_lexer": "ipython3",
   "version": "3.11.5"
  }
 },
 "nbformat": 4,
 "nbformat_minor": 5
}
