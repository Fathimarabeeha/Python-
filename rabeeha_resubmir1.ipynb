
{
 "cells": [
  {
   "cell_type": "code",
   "execution_count": 1,
   "id": "4e56c406",
   "metadata": {},
   "outputs": [
    {
     "name": "stdout",
     "output_type": "stream",
     "text": [
      "Enter a number n: 20\n",
      "the value is:  204060\n"
     ]
    }
   ],
   "source": [
    "#INTEGER\n",
    "n = int(input(\"Enter a number n: \"))\n",
    "temp = str(n)\n",
    "t1 = temp + temp \n",
    "t2 = temp + temp + temp\n",
    "comp = n + int(t1) + int(t2)\n",
    "print(\"the value is: \",comp)"
   ]
  },
  {
   "cell_type": "code",
   "execution_count": 1,
   "id": "053130be",
   "metadata": {},
   "outputs": [
    {
     "name": "stdout",
     "output_type": "stream",
     "text": [
      "enter the radius of circle: 5\n",
      "The area of the circle with radius 5.0 is: 78.54\n"
     ]
    }
   ],
   "source": [
    "#AREA OF A CIRCLE\n",
    "import math\n",
    "radius = float(input(\"enter the radius of circle: \"))\n",
    "area = math.pi* radius ** 2\n",
    "print(f\"The area of the circle with radius {radius} is: {area:.2f}\")"
   ]
  },
  {
   "cell_type": "code",
   "execution_count": 6,
   "id": "edc550aa",
   "metadata": {},
   "outputs": [
    {
     "name": "stdout",
     "output_type": "stream",
     "text": [
      "Enter the first number: 5\n",
      "Enter the second number: 9\n",
      "Enter the thirdb number: 3\n",
      "The biggest number is: 9.0\n"
     ]
    }
   ],
   "source": [
    "#BIGGEST THREE NUMBERS\n",
    "def find_max_of_three(a,b,c):\n",
    "    return max(a,b,c)\n",
    "num1 = float(input(\"Enter the first number: \"))\n",
    "num2 = float(input(\"Enter the second number: \"))\n",
    "num3 = float(input(\"Enter the thirdb number: \"))\n",
    "biggest = find_max_of_three(num1, num2, num3)\n",
    "print(f\"The biggest number is: {biggest}\")"
   ]
  },
  {
   "cell_type": "code",
   "execution_count": null,
   "id": "b07bf99a",
   "metadata": {},
   "outputs": [],
   "source": []
  }
 ],
 "metadata": {
  "kernelspec": {
   "display_name": "Python 3 (ipykernel)",
   "language": "python",
   "name": "python3"
  },
  "language_info": {
   "codemirror_mode": {
    "name": "ipython",
    "version": 3
   },
   "file_extension": ".py",
   "mimetype": "text/x-python",
   "name": "python",
   "nbconvert_exporter": "python",
   "pygments_lexer": "ipython3",
   "version": "3.11.5"
  }
 },
 "nbformat": 4,
 "nbformat_minor": 5
}
