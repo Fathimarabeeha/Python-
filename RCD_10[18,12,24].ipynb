{
 "cells": [
  {
   "cell_type": "code",
   "execution_count": 11,
   "id": "81a865e9",
   "metadata": {},
   "outputs": [
    {
     "name": "stdout",
     "output_type": "stream",
     "text": [
      "Enter first number:5\n",
      "Enter second number:3\n",
      "Result of division:1.6666666666666667\n",
      "End of program\n"
     ]
    }
   ],
   "source": [
    "#EXEPTION HANDLING\n",
    "try:\n",
    "    num1=int(input(\"Enter first number:\"))\n",
    "    num2=int(input(\"Enter second number:\"))\n",
    "    result=num1/num2\n",
    "except ZeroDivisionError:\n",
    "    print(\"Enter:you vannot divide by zero!\"                                            )\n",
    "except ValueError:\n",
    "    print(\"Error:Invalid input.Please enter numeric values.\")\n",
    "else:\n",
    "    print(f\"Result of division:{result}\")\n",
    "finally:\n",
    "    print(\"End of program\")"
   ]
  },
  {
   "cell_type": "code",
   "execution_count": 14,
   "id": "fe41690e",
   "metadata": {},
   "outputs": [
    {
     "name": "stdout",
     "output_type": "stream",
     "text": [
      "Pattern found!\n"
     ]
    }
   ],
   "source": [
    "#REGULAER EXPRESSIONS\n",
    "import re\n",
    "pattern=r\"hello\"\n",
    "text=\"hello world\"\n",
    "if re.match(pattern, text):\n",
    "    print(\"Pattern found!\")\n",
    "else:\n",
    "    print(\"Pattern not found.\")\n",
    "    "
   ]
  },
  {
   "cell_type": "code",
   "execution_count": null,
   "id": "20ff6779",
   "metadata": {},
   "outputs": [],
   "source": []
  }
 ],
 "metadata": {
  "kernelspec": {
   "display_name": "Python 3 (ipykernel)",
   "language": "python",
   "name": "python3"
  },
  "language_info": {
   "codemirror_mode": {
    "name": "ipython",
    "version": 3
   },
   "file_extension": ".py",
   "mimetype": "text/x-python",
   "name": "python",
   "nbconvert_exporter": "python",
   "pygments_lexer": "ipython3",
   "version": "3.11.5"
  }
 },
 "nbformat": 4,
 "nbformat_minor": 5
}
