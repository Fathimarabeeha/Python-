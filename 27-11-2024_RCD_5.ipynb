{
 "cells": [
  {
   "cell_type": "code",
   "execution_count": 11,
   "id": "d0b84057",
   "metadata": {},
   "outputs": [
    {
     "name": "stdout",
     "output_type": "stream",
     "text": [
      "Enter the first number :56\n",
      "Enter the second number :98\n",
      "The GCD of 56 and 98 is: 14\n"
     ]
    }
   ],
   "source": [
    "#FIND GCD 2 NUMBERS\n",
    "import math\n",
    "a = int(input(\"Enter the first number :\"))\n",
    "b = int(input(\"Enter the second number :\"))\n",
    "gcd = math.gcd(a, b)\n",
    "print(\"The GCD of\", a, \"and\", b, \"is:\", gcd)"
   ]
  },
  {
   "cell_type": "code",
   "execution_count": 48,
   "id": "1b41221c",
   "metadata": {},
   "outputs": [
    {
     "name": "stdout",
     "output_type": "stream",
     "text": [
      "Enter the numbers :1,2,3,4,5,6,7,8,9,10\n",
      "Remove even numbers: [1, 3, 5, 7, 9]\n"
     ]
    }
   ],
   "source": [
    "#REMOVE EVEN NUMBERS\n",
    "a = (input(\"Enter the numbers :\").split(\",\"))\n",
    "b = [int(num) for num in a]\n",
    "c = [num for num in b if num % 2 != 0]\n",
    "print(\"Remove even numbers:\", c)"
   ]
  },
  {
   "cell_type": "code",
   "execution_count": 31,
   "id": "50bea28a",
   "metadata": {},
   "outputs": [
    {
     "name": "stdout",
     "output_type": "stream",
     "text": [
      "Enter the numbers (separated by commas): 1,5,4,7,8,6,25\n",
      "sum : 56\n"
     ]
    }
   ],
   "source": [
    "#FAIND SUM IN A LIST\n",
    "a=list(map(int, input(\"Enter the numbers (separated by commas): \").split(',')))\n",
    "s=sum(a)\n",
    "print(\"sum :\",s)"
   ]
  },
  {
   "cell_type": "code",
   "execution_count": 47,
   "id": "532dfa6c",
   "metadata": {},
   "outputs": [
    {
     "name": "stdout",
     "output_type": "stream",
     "text": [
      "Enter the start four digit number :1000\n",
      "Enter the end foir digit numbers :9999\n",
      "Perfect squares with all even digits: [4624, 6084, 6400, 8464]\n"
     ]
    }
   ],
   "source": [
    "#LIST OF FOUR DIGIT NUMBERS\n",
    "import math\n",
    "a=int(input(\"Enter the start four digit number :\"))\n",
    "b=int(input(\"Enter the end foir digit numbers :\"))\n",
    "result=[]\n",
    "for num in range(a, b + 1):\n",
    "    if (int(num**0.5input_string))**2 == num and all(int(digit) % 2 == 0 for digit in str(num)):\n",
    "        result.append(num)\n",
    "print(\"Perfect squares with all even digits:\", result)"
   ]
  },
  {
   "cell_type": "code",
   "execution_count": 44,
   "id": "f2747b98",
   "metadata": {},
   "outputs": [
    {
     "name": "stdout",
     "output_type": "stream",
     "text": [
      "Enter a string: Unnecessary\n",
      "'c': 1\n",
      "'a': 1\n",
      "'y': 1\n",
      "'s': 2\n",
      "'U': 1\n",
      "'n': 2\n",
      "'r': 1\n",
      "'e': 2\n"
     ]
    }
   ],
   "source": [
    "#CHARACHTER FREQUANCY\n",
    "input_string = input(\"Enter a string: \")\n",
    "for char in set(input_string): \n",
    "    print(f\"'{char}': {input_string.count(char)}\")"
   ]
  },
  {
   "cell_type": "code",
   "execution_count": 49,
   "id": "c0793c09",
   "metadata": {},
   "outputs": [
    {
     "name": "stdout",
     "output_type": "stream",
     "text": [
      "Enter a string :play\n",
      "Result string : playing\n"
     ]
    }
   ],
   "source": [
    "#ADD 'ING' AT THE END OF A GIVEN STRING\n",
    "a=(input(\"Enter a string :\"))\n",
    "if a.endswith(\"ing\"):\n",
    "    a+=(\"ly\")\n",
    "else:\n",
    "    a+=(\"ing\")\n",
    "print(\"Result string :\",a)"
   ]
  },
  {
   "cell_type": "code",
   "execution_count": null,
   "id": "f451d3a0",
   "metadata": {},
   "outputs": [],
   "source": []
  }
 ],
 "metadata": {
  "kernelspec": {
   "display_name": "Python 3 (ipykernel)",
   "language": "python",
   "name": "python3"
  },
  "language_info": {
   "codemirror_mode": {
    "name": "ipython",
    "version": 3
   },
   "file_extension": ".py",
   "mimetype": "text/x-python",
   "name": "python",
   "nbconvert_exporter": "python",
   "pygments_lexer": "ipython3",
   "version": "3.11.5"
  }
 },
 "nbformat": 4,
 "nbformat_minor": 5
}
