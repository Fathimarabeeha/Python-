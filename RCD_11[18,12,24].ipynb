{
 "cells": [
  {
   "cell_type": "code",
   "execution_count": 3,
   "id": "3b51200f",
   "metadata": {},
   "outputs": [
    {
     "name": "stdout",
     "output_type": "stream",
     "text": [
      "Enter emails and phone numbers seperated by comma:abc@gmail.com,1234567890\n",
      "\n",
      "Vlid Emails:\n",
      "- abc@gmail.com\n",
      "\n",
      "Valid_Phone_numbers:\n",
      "-1234567890\n"
     ]
    }
   ],
   "source": [
    "#EMAIL,ADDRESSES AND PHONE NO. USERS\n",
    "import re\n",
    "email_pattern=r'^[a-zA-Z0-9._%+-]+@[a-zA-Z0-9.-]+\\.[a-zA-Z]{2,}$'\n",
    "phone_pattern=r'^\\+?\\d{0,2}[-\\s]?\\d{10}$'\n",
    "user_input=input(\"Enter emails and phone numbers seperated by comma:\").split(\",\")\n",
    "user_inputs=[items.strip() for items in user_input]\n",
    "\n",
    "valid_emails=[]\n",
    "valid_phone_numbers=[]\n",
    "\n",
    "for item in user_inputs:\n",
    "    if re.match(email_pattern, item): \n",
    "        valid_emails.append(item)\n",
    "    elif re.match(phone_pattern, item):\n",
    "        valid_phone_numbers.append(item)\n",
    "\n",
    "print(\"\\nVlid Emails:\")\n",
    "for email in valid_emails:\n",
    "    print(f\"- {email}\")\n",
    "                \n",
    "print(\"\\nValid_Phone_numbers:\")\n",
    "for phone in valid_phone_numbers:\n",
    "    print(f\"-{phone}\")"
   ]
  },
  {
   "cell_type": "code",
   "execution_count": null,
   "id": "6945ebf7",
   "metadata": {},
   "outputs": [],
   "source": []
  },
  {
   "cell_type": "code",
   "execution_count": null,
   "id": "bc7807fc",
   "metadata": {},
   "outputs": [],
   "source": []
  }
 ],
 "metadata": {
  "kernelspec": {
   "display_name": "Python 3 (ipykernel)",
   "language": "python",
   "name": "python3"
  },
  "language_info": {
   "codemirror_mode": {
    "name": "ipython",
    "version": 3
   },
   "file_extension": ".py",
   "mimetype": "text/x-python",
   "name": "python",
   "nbconvert_exporter": "python",
   "pygments_lexer": "ipython3",
   "version": "3.11.5"
  }
 },
 "nbformat": 4,
 "nbformat_minor": 5
}
