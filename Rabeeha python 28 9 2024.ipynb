

{
 "cells": [
  {
   "cell_type": "code",
   "execution_count": 10,
   "id": "cd0bddab",
   "metadata": {},
   "outputs": [
    {
     "name": "stdout",
     "output_type": "stream",
     "text": [
      "enter the side of the squre:3\n",
      "area = 9\n"
     ]
    }
   ],
   "source": [
    "#AREA OF A SQUARE\n",
    "area=int (input(\"enter the side of the squre:\"))\n",
    "area=area*area\n",
    "print(\"area =\",area)"
   ]
  },
  {
   "cell_type": "code",
   "execution_count": 1,
   "id": "e25ddfed",
   "metadata": {},
   "outputs": [
    {
     "name": "stdout",
     "output_type": "stream",
     "text": [
      "enter your name: fathima\n",
      "hallo,fathima!\n"
     ]
    }
   ],
   "source": [
    "#HELLO NAME\n",
    "user=input(\"enter your name: \")\n",
    "print(f\"hello,{user}!\")"
   ]
  },
  {
   "cell_type": "code",
   "execution_count": 5,
   "id": "fe57ec9d",
   "metadata": {},
   "outputs": [
    {
     "name": "stdout",
     "output_type": "stream",
     "text": [
      "enter an integer: 8\n",
      "The previous number for the number8is 7.\n",
      "the next number for the number 8 is 9.\n"
     ]
    }
   ],
   "source": [
    "#PREVIOUS NUMBER\n",
    "num=int(input(\"enter an integer: \"))\n",
    "previous_num = num-1\n",
    "next_num = num + 1\n",
    "print(f\"The previous number for the number{num}is {previous_num}.\")\n",
    "print(f\"the next number for the number {num} is {next_num}.\")"
   ]
  },
  {
   "cell_type": "code",
   "execution_count": 13,
   "id": "390b8def",
   "metadata": {},
   "outputs": [
    {
     "name": "stdout",
     "output_type": "stream",
     "text": [
      "enter the principal amount: 2000\n",
      "enter the annual rate of interest: 3.5\n",
      "enter the time (in years): 5\n",
      "The simple interest is: 350.0\n"
     ]
    }
   ],
   "source": [
    "#SIMPLE INTEREST\n",
    "P = float(input(\"enter the principal amount: \"))\n",
    "R = float(input(\"enter the annual rate of interest: \"))\n",
    "T = float(input(\"enter the time (in years): \"))\n",
    "simple_interest = (P * R * T) / 100\n",
    "print(f\"The simple interest is: {simple_interest}\")"
   ]
  },
  {
   "cell_type": "code",
   "execution_count": null,
   "id": "3095c77d",
   "metadata": {},
   "outputs": [],
   "source": [
    "#AREA OF TRAIANGLE\n",
    "base = float(input(\"enter the length of the base of the triangle: \"))\n",
    "hight = float(input(\"enter the hight of the triangle: \"))\n",
    "area = float((base * hight)/2)\n",
    "print(\"area =\", area)"
   ]
  },
  {
   "cell_type": "code",
   "execution_count": null,
   "id": "d502eb9d",
   "metadata": {},
   "outputs": [],
   "source": []
  }
 ],
 "metadata": {
  "kernelspec": {
   "display_name": "Python 3 (ipykernel)",
   "language": "python",
   "name": "python3"
  },
  "language_info": {
   "codemirror_mode": {
    "name": "ipython",
    "version": 3
   },
   "file_extension": ".py",
   "mimetype": "text/x-python",
   "name": "python",
   "nbconvert_exporter": "python",
   "pygments_lexer": "ipython3",
   "version": "3.11.5"
  }
 },
 "nbformat": 4,
 "nbformat_minor": 5
}
