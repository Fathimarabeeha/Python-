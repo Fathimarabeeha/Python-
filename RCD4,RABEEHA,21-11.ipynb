{
 "cells": [
  {
   "cell_type": "code",
   "execution_count": 13,
   "id": "1b700c0f",
   "metadata": {},
   "outputs": [
    {
     "name": "stdout",
     "output_type": "stream",
     "text": [
      "Enter a text:ayishu kaju ruju ayishu\n",
      "ayishu 2\n",
      "kaju 1\n",
      "ruju 1\n",
      "ayishu 2\n"
     ]
    }
   ],
   "source": [
    "#COUNT THE OCCURRENCES\n",
    "a=(input(\"Enter a text:\").split())\n",
    "for word in a:\n",
    "    print(word,a.count(word))\n"
   ]
  },
  {
   "cell_type": "code",
   "execution_count": 16,
   "id": "ed0b079a",
   "metadata": {},
   "outputs": [
    {
     "name": "stdout",
     "output_type": "stream",
     "text": [
      "Enter the list of numbers:10 121 141 45 78\n",
      "result: ['below', 'over', 'over', 'below', 'below']\n"
     ]
    }
   ],
   "source": [
    "#VALUES GREATER THAN 100\n",
    "a=(input(\"Enter the list of numbers:\").split())\n",
    "b=[]\n",
    "\n",
    "for num in a:\n",
    "    number=int(num)\n",
    "    if number>100:\n",
    "        b.append('over')\n",
    "    else:\n",
    "        b.append('below')\n",
    "print(\"result:\",b)"
   ]
  },
  {
   "cell_type": "code",
   "execution_count": 18,
   "id": "61190434",
   "metadata": {},
   "outputs": [
    {
     "name": "stdout",
     "output_type": "stream",
     "text": [
      "Enter the list of names:ayisha fathu ami kau ruju\n",
      "result: 5\n"
     ]
    }
   ],
   "source": [
    "#COUNT THE OCCURRENCES OF 'A'\n",
    "a=(input(\"Enter the list of names:\").split())\n",
    "count=0\n",
    "for name in a:\n",
    "    count+=name.lower().count('a')\n",
    "print(\"result:\",count)"
   ]
  },
  {
   "cell_type": "code",
   "execution_count": 4,
   "id": "3c6708fe",
   "metadata": {
    "scrolled": true
   },
   "outputs": [
    {
     "name": "stdout",
     "output_type": "stream",
     "text": [
      "Enter 1st list of ints: 1 2 3 4 5 \n",
      "Enter 2nd list of ints: 5 6 7 1 2\n",
      "length: True\n",
      "sum: False\n",
      "common: {1, 2, 5}\n"
     ]
    }
   ],
   "source": [
    "#LENGTH,SUM AND COMMON VALUE OF LIST\n",
    "a=list(map(int, input(\"Enter 1st list of ints: \").split()))\n",
    "b=list(map(int, input(\"Enter 2nd list of ints: \").split()))\n",
    "\n",
    "length=len(a)==len(b)\n",
    "same_sum=sum(a)==sum(b)\n",
    "common=set(a).intersection(b)\n",
    "\n",
    "print(\"length:\",length)\n",
    "print(\"sum:\",same_sum)\n",
    "print(\"common:\",common)\n"
   ]
  },
  {
   "cell_type": "code",
   "execution_count": 23,
   "id": "508cfacf",
   "metadata": {},
   "outputs": [
    {
     "name": "stdout",
     "output_type": "stream",
     "text": [
      "Enter the first list of numbers:2 5 -6 7 -4\n",
      "Enter a word:Education\n",
      "positive numbers are : [2, 5, 7]\n",
      "Square: [4, 25, 36, 49, 16]\n",
      "Vowels: ['a', 'i', 'u']\n",
      "Ordinal valu: [69, 100, 117, 99, 97, 116, 105, 111, 110]\n"
     ]
    }
   ],
   "source": [
    "#LIST COMPREHENSIONS\n",
    "a=list(map(int,input(\"Enter the first list of numbers:\").split()))\n",
    "b=input(\"Enter a word:\")\n",
    "positive_numbers=[num for num in a if num > 0]\n",
    "print(\"positive numbers are :\",positive_numbers)\n",
    "sq=[i**2 for i in a]\n",
    "print(\"Square:\",sq)\n",
    "vowals=[char for char in word if char in 'aeiouAEIOU']\n",
    "print(\"Vowels:\",vowals)\n",
    "ordinal_values=[ord(char) for char in b]\n",
    "print(\"Ordinal valu:\",ordinal_values)"
   ]
  },
  {
   "cell_type": "code",
   "execution_count": null,
   "id": "9062ba2f",
   "metadata": {},
   "outputs": [],
   "source": []
  }
 ],
 "metadata": {
  "kernelspec": {
   "display_name": "Python 3 (ipykernel)",
   "language": "python",
   "name": "python3"
  },
  "language_info": {
   "codemirror_mode": {
    "name": "ipython",
    "version": 3
   },
   "file_extension": ".py",
   "mimetype": "text/x-python",
   "name": "python",
   "nbconvert_exporter": "python",
   "pygments_lexer": "ipython3",
   "version": "3.11.5"
  }
 },
 "nbformat": 4,
 "nbformat_minor": 5
}
