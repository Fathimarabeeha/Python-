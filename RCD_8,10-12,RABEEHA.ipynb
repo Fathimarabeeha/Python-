{
 "cells": [
  {
   "cell_type": "code",
   "execution_count": 5,
   "id": "c679e6cc",
   "metadata": {},
   "outputs": [
    {
     "name": "stdout",
     "output_type": "stream",
     "text": [
      "Enter length of rectangle l:2\n",
      "Enter breadth of rectangle l:3\n",
      "Enter breadth of rectangle2:4\n",
      "Enter breadth of rectangle2:5\n",
      "Enter area of rectangle l:6\n",
      "Enter perimeter of rectangle l:10\n",
      "Enter area of rectangle2:20\n",
      "Enter perimeter of rectangle2:18\n",
      "Rectangle 2 is greater\n"
     ]
    }
   ],
   "source": [
    "class rectangle():\n",
    "    def get(self,l,b):\n",
    "        self.l=l\n",
    "        self.b=b\n",
    "    def area(self,l,b):\n",
    "        return l*b\n",
    "    def perimeter(self,l,b):\n",
    "        return 2*(l,b)\n",
    "\n",
    "r1=rectangle()\n",
    "r2=rectangle()\n",
    "l1=int(input(\"Enter length of rectangle l:\"))\n",
    "b1=int(input(\"Enter breadth of rectangle l:\"))\n",
    "l2=int(input(\"Enter breadth of rectangle2:\"))\n",
    "b2=int(input(\"Enter breadth of rectangle2:\"))\n",
    "p=r1.area(l1,b1)\n",
    "q=r2.area(l2,b2)\n",
    "l1=int(input(\"Enter area of rectangle l:\"))\n",
    "b1=int(input(\"Enter perimeter of rectangle l:\"))\n",
    "l2=int(input(\"Enter area of rectangle2:\"))\n",
    "b2=int(input(\"Enter perimeter of rectangle2:\"))\n",
    "if(p>q):\n",
    "    print(\"Rectangle 1 is greater\")\n",
    "elif(p<q):\n",
    "    print(\"Rectangle 2 is greater\")\n",
    "else:\n",
    "    \n",
    "    print(\"Rectangles are equal\")"
   ]
  },
  {
   "cell_type": "code",
   "execution_count": null,
   "id": "4553569b",
   "metadata": {},
   "outputs": [
    {
     "name": "stdout",
     "output_type": "stream",
     "text": [
      "Enter name: ABC\n",
      "Enter account number: 1234\n"
     ]
    }
   ],
   "source": [
    "class bankaccount:\n",
    "    def __init__(self,a_name, a_no,a_type,a_balance):\n",
    "        self.acc_name=a_name\n",
    "        self.acc_no=a_no\n",
    "        self.acc_type=a_type\n",
    "        self.acc_balance=a_balance\n",
    "\n",
    "    def deposit(self,a_deposit):\n",
    "        print(\"Initial balance: \",self.acc_balance)\n",
    "        self.acc_balance+=a_deposit\n",
    "        print(a_deposit, \"is deposited\")\n",
    "        print(\"current balance: \",self.acc_balance)\n",
    "\n",
    "    def withdraw(self):\n",
    "        self.amount=int(input(\"Withdraw amount: \"))\n",
    "        print(\"Initial balance: \",self.acc_balance)\n",
    "        if self.amount > self.acc_balance:\n",
    "            print(\"You don't have enough balance to withdraw !!\")\n",
    "            print(\"Current balance: \",self.acc_balance)\n",
    "        else:\n",
    "            print(self.amount,\" is withdrawed\")\n",
    "            self.acc_balance-=self.amount\n",
    "            print(\"Current balance: \",self.acc_balance)\n",
    "\n",
    "    def acc_info(self):\n",
    "        print(\"Account holder Name: \", self.acc_name)\n",
    "        print(\"Account Number: \", self.acc_no)\n",
    "        print(\"Account Type: \", self.acc_type)\n",
    "        print(\"Account Balance: \", self.acc_balance)\n",
    "\n",
    "name=input(\"Enter name: \")\n",
    "no=int(input(\"Enter account number: \"))\n",
    "type=input(\"Enter account type: \")\n",
    "bal=int(input(\"Enter initial balance: \"))\n",
    "holder=bankaccount(name,no,type,bal)\n",
    "\n",
    "while(True):\n",
    "    ch=int(input(\"1. Deposit 2. Withdraw 3. Account info 4.Exit\\n Choose your option: \"))\n",
    "    if ch==1:\n",
    "        amount=int(input(\"Deposit amount: \"))\n",
    "        holder.deposit(amount)\n",
    "    elif ch==2:\n",
    "        holder.withdraw()\n",
    "    elif ch==3:\n",
    "        holder.acc_info()\n",
    "    else:\n",
    "        print(\"Exiting...\")\n",
    "        break"
   ]
  },
  {
   "cell_type": "code",
   "execution_count": null,
   "id": "3e50476d",
   "metadata": {},
   "outputs": [],
   "source": [
    "class publisher:\n",
    "    def __init__(self,pname):\n",
    "        self.pubname=pname\n",
    "    def display1(self):\n",
    "        print(\"Book details\\n Publisher name=\",self.pubname)\n",
    "class book(publisher):\n",
    "    def __init__(self,pname,bname,author):\n",
    "        self.title=bname\n",
    "        self.auth=author\n",
    "        publisher.__init__(self,pname)\n",
    "    def display2(self):\n",
    "        print(\"title=\",self.title)\n",
    "        print(\"Author\",self.auth)\n",
    "class python(book):\n",
    "    def __init__(self,pname,title,au,price,np):\n",
    "        self.rate=price\n",
    "        self.nop=np\n",
    "        book.__init__(self,pname,title,au)\n",
    "    def display3(self):\n",
    "        print(\"Rate=\",self.rate)\n",
    "        print(\"No. of pages=\",self.nop)\n",
    "p=input(\"Enter publisher name:\")\n",
    "b=input(\"Enter book name:\")\n",
    "a=input(\"Enter author name:\")\n",
    "r=int(input(\"Enter rate of book:\"))\n",
    "n=int(input(\"Enter no.of pages:\"))\n",
    "a=python(p,b,a,r,n)\n",
    "a.display1()\n",
    "a.display2()\n",
    "a.display3()"
   ]
  },
  {
   "cell_type": "code",
   "execution_count": 8,
   "id": "fdd5f6c1",
   "metadata": {},
   "outputs": [
    {
     "name": "stdout",
     "output_type": "stream",
     "text": [
      "Enter length of rectangle1: 2\n",
      "Enter width of rectangle1: 5\n",
      "Enter length of rectangle12: 3\n",
      "Enter width of rectangle2: 4\n",
      "rectangle 2 is greater\n"
     ]
    }
   ],
   "source": [
    "class rectangle:\n",
    "    def __init__(self,l,w):\n",
    "        self.length=l\n",
    "        self.width=w\n",
    "        self.a=l*w\n",
    "    def __gt__(self,other):\n",
    "        if self.a < other.a:\n",
    "            print(\"rectangle 1 is greater\")\n",
    "        else:\n",
    "            print(\"rectangle 2 is greater\")\n",
    "\n",
    "l1=int(input(\"Enter length of rectangle1: \"))\n",
    "w1=int(input(\"Enter width of rectangle1: \"))\n",
    "l2=int(input(\"Enter length of rectangle12: \"))\n",
    "w2=int(input(\"Enter width of rectangle2: \"))\n",
    "\n",
    "r1=rectangle(l1,w1)\n",
    "r2=rectangle(l2,w2)\n",
    "r1<r2"
   ]
  },
  {
   "cell_type": "code",
   "execution_count": 18,
   "id": "91caed19",
   "metadata": {},
   "outputs": [
    {
     "name": "stdout",
     "output_type": "stream",
     "text": [
      "Enter hour14\n",
      "enter minute1: 54\n",
      "enter second1: 56\n",
      "Enter hour2:3\n",
      "enter minute2: 56\n",
      "enter second2: 45\n",
      "Added time..\n",
      " Hour:  8 Minute:  50 Second:  41\n"
     ]
    }
   ],
   "source": [
    "class time:\n",
    "    def __init__(self,hr,mint,sec):\n",
    "        self.__h=hr\n",
    "        self.__m=mint\n",
    "        self.__s=sec\n",
    "    def __add__(self,other):\n",
    "        hh=self.__h+other.__h\n",
    "        ss=self.__s+other.__s\n",
    "        mm=self.__m+other.__m\n",
    "        if (ss>=60):\n",
    "            m=int(ss/60)\n",
    "            ss=ss%60\n",
    "            \n",
    "\n",
    "        if (mm>=60):\n",
    "            h=int(mm/60)\n",
    "            mm=mm%60\n",
    "            hh+=h\n",
    "            print(\"Added time..\\n Hour: \",hh, \"Minute: \", mm,\n",
    "        \"Second: \",ss)\n",
    "  \n",
    "    h1=int(input(\"Enter hour1\"))\n",
    "    m1=int(input(\"enter minute1: \"))\n",
    "    s1=int(input(\"enter second1: \"))\n",
    "    h2=int(input(\"Enter hour2:\"))\n",
    "    m2=int(input(\"enter minute2: \"))\n",
    "    s2=int(input(\"enter second2: \"))\n",
    "    t1=time(h1,m1,s1)\n",
    "    t2=time(h2,m2,s2)\n",
    "    t1+t2"
   ]
  },
  {
   "cell_type": "code",
   "execution_count": null,
   "id": "f1c36637",
   "metadata": {},
   "outputs": [],
   "source": []
  }
 ],
 "metadata": {
  "kernelspec": {
   "display_name": "Python 3 (ipykernel)",
   "language": "python",
   "name": "python3"
  },
  "language_info": {
   "codemirror_mode": {
    "name": "ipython",
    "version": 3
   },
   "file_extension": ".py",
   "mimetype": "text/x-python",
   "name": "python",
   "nbconvert_exporter": "python",
   "pygments_lexer": "ipython3",
   "version": "3.11.5"
  }
 },
 "nbformat": 4,
 "nbformat_minor": 5
}
