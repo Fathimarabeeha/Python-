{
 "cells": [
  {
   "cell_type": "code",
   "execution_count": 12,
   "id": "a4a2361c",
   "metadata": {},
   "outputs": [
    {
     "name": "stdout",
     "output_type": "stream",
     "text": [
      "Enter the sorce file:y.txt\n",
      "lines in the file: 2\n"
     ]
    }
   ],
   "source": [
    "#NUMBER OF LINES IN A FILE\n",
    "l=[]\n",
    "file1=input(\"Enter the sorce file:\")\n",
    "f=open(file1,\"r\")\n",
    "for line in  f.readlines():\n",
    "    l.append(line)\n",
    "print(\"lines in the file:\",len(l))"
   ]
  },
  {
   "cell_type": "code",
   "execution_count": 13,
   "id": "ec38d210",
   "metadata": {},
   "outputs": [
    {
     "name": "stdout",
     "output_type": "stream",
     "text": [
      "Enter the source filey.txt\n",
      "Enter destination file:Rabeeha python\n"
     ]
    }
   ],
   "source": [
    "#OOD LINES\n",
    "file1=input(\"Enter the source file:\")\n",
    "file2=input(\"Enter destination file:\")\n",
    "f1=open(file1,\"r\")\n",
    "f2=open(file2,\"w\")\n",
    "i=0\n",
    "for line in f1.readlines():\n",
    "    i=i+1\n",
    "    if i%2==0:\n",
    "        continue\n",
    "    f2.write(line)\n",
    "f1.close()\n",
    "f2.close()"
   ]
  },
  {
   "cell_type": "code",
   "execution_count": 12,
   "id": "25ffa4ba",
   "metadata": {},
   "outputs": [
    {
     "name": "stdout",
     "output_type": "stream",
     "text": [
      "Enter new source file name:sdf.csv\n",
      "Enter comma seperated empid,empname,dptname,salary:1,dsf,sales,2 jan 12,200\n",
      "Enter comma seperated empid,empname,dptname,salary:2,dsf,sales,3 jan 12,200\n",
      "The csv file contains:\n",
      "{'1': '1', 'sdf': 'dsf', 'sales': 'sales', '2 jan 24': '2 jan 12', '200': '200'}\n"
     ]
    }
   ],
   "source": [
    "#DICTIONERY TO A CSV FILE\n",
    "import csv\n",
    "file1=input(\"Enter new source file name:\")\n",
    "with open(file1,\"a+\",newline='')as f1:\n",
    "    empdata=[\"empid\",\"empname\",\"dptname\",\"dob\",\"salary\"]\n",
    "    l=[]\n",
    "    writer=csv.DictWriter(f1,fieldnames=empdata)\n",
    "    for i in range(2):\n",
    "        l=list(input(\"Enter comma seperated empid,empname,dptname,salary:\").split(\",\"))\n",
    "        writer.writerow({'empid':l[0],'empname':l[1],'dptname':l[2],'dob':l[3],'salary':l[4]})\n",
    "        l.clear()\n",
    "    print(\"The csv file contains:\")\n",
    "    with open(file1,'r')as f2:\n",
    "        rdr=csv.DictReader(f2)\n",
    "        for item in rdr:\n",
    "            print(dict(item))"
   ]
  },
  {
   "cell_type": "code",
   "execution_count": 19,
   "id": "50fe4745",
   "metadata": {},
   "outputs": [
    {
     "name": "stdout",
     "output_type": "stream",
     "text": [
      "Enter csv file name: y.txt\n",
      "['12345']\n",
      "['asdfgh']\n"
     ]
    }
   ],
   "source": [
    "#CSV FILE AND LIST OF SRING\n",
    "import csv\n",
    "fname=input(\"Enter csv file name: \")\n",
    "f1=open(fname,\"r\")\n",
    "reader=csv.reader(f1)\n",
    "for row in reader:\n",
    "    print(row)\n",
    "f1.close()"
   ]
  },
  {
   "cell_type": "code",
   "execution_count": 10,
   "id": "f302b308",
   "metadata": {},
   "outputs": [
    {
     "name": "stdout",
     "output_type": "stream",
     "text": [
      "Enter new filename with extension csv: sdf.csv\n",
      "Enter number of dept: 2\n",
      "Enter comma seperated deptid,deptname,TE,location: 3,sd,2,calicut\n",
      "Enter comma seperated deptid,deptname,TE,location: 2,ghj,6,kannur\n",
      "DepartmentID. DepartmentName\n",
      "3   Marce\n",
      "8   kahf\n",
      "deptid   deptname\n",
      "deptid   deptname\n",
      "deptid   deptname\n",
      "3   sd\n",
      "2   ghj\n"
     ]
    }
   ],
   "source": [
    "#DEPARTMENT PROHRAM\n",
    "import csv\n",
    "file1=input(\"Enter new filename with extension csv: \")\n",
    "with open (file1,\"a+\",newline='')as f1:\n",
    "    empdata=[\"deptid\",\"deptname\",\"TE\",\"location\"]\n",
    "    l=[]\n",
    "\n",
    "    writer=csv.DictWriter(f1,fieldnames=empdata)\n",
    "    writer.writeheader()\n",
    "    n=int(input(\"Enter number of dept: \"))\n",
    "    for i in range(n):\n",
    "        l=list(input(\"Enter comma seperated deptid,deptname,TE,location: \").split(\",\"))\n",
    "        writer.writerow({'deptid':l[0],'deptname':l[1],'TE':l[2],'location':l[3]})\n",
    "        l.clear()\n",
    "    print(\"DepartmentID. DepartmentName\")\n",
    "with open (file1,'r') as f2:\n",
    "    rdr=csv.DictReader(f2)\n",
    "    for item in rdr:\n",
    "        print(item['deptid'],\" \",item['deptname'])"
   ]
  },
  {
   "cell_type": "code",
   "execution_count": null,
   "id": "7d3bd895",
   "metadata": {},
   "outputs": [],
   "source": []
  },
  {
   "cell_type": "code",
   "execution_count": null,
   "id": "5482d0f2",
   "metadata": {},
   "outputs": [],
   "source": []
  }
 ],
 "metadata": {
  "kernelspec": {
   "display_name": "Python 3 (ipykernel)",
   "language": "python",
   "name": "python3"
  },
  "language_info": {
   "codemirror_mode": {
    "name": "ipython",
    "version": 3
   },
   "file_extension": ".py",
   "mimetype": "text/x-python",
   "name": "python",
   "nbconvert_exporter": "python",
   "pygments_lexer": "ipython3",
   "version": "3.11.5"
  }
 },
 "nbformat": 4,
 "nbformat_minor": 5
}
